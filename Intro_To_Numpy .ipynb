{
 "cells": [
  {
   "cell_type": "markdown",
   "id": "15fa0317",
   "metadata": {},
   "source": [
    "# Intro_To_Numpy "
   ]
  },
  {
   "cell_type": "code",
   "execution_count": 1,
   "id": "fdce2735",
   "metadata": {
    "ExecuteTime": {
     "end_time": "2022-08-24T07:17:49.949446Z",
     "start_time": "2022-08-24T07:17:49.783169Z"
    }
   },
   "outputs": [],
   "source": [
    "# NumPy provides efficient data operations on arrays and matrices\n",
    "import numpy as np "
   ]
  },
  {
   "cell_type": "code",
   "execution_count": 2,
   "id": "25f4d0a4",
   "metadata": {
    "ExecuteTime": {
     "end_time": "2022-08-24T07:17:49.969369Z",
     "start_time": "2022-08-24T07:17:49.949446Z"
    }
   },
   "outputs": [
    {
     "data": {
      "text/plain": [
       "array([1, 2, 3, 4, 3, 2, 1])"
      ]
     },
     "execution_count": 2,
     "metadata": {},
     "output_type": "execute_result"
    }
   ],
   "source": [
    "a=np.array([1,2,3,4,3,2,1]) #array is native to numpy\n",
    "a "
   ]
  },
  {
   "cell_type": "code",
   "execution_count": 3,
   "id": "3f912baf",
   "metadata": {
    "ExecuteTime": {
     "end_time": "2022-08-24T07:17:49.981010Z",
     "start_time": "2022-08-24T07:17:49.969369Z"
    }
   },
   "outputs": [],
   "source": [
    "#List can colllect heterogeneous data types. \n",
    "#An array collect homogeneous data type.\n",
    "\n",
    "#List cannot manage arithmetic operations.\n",
    "#Array can manage arithmetic operations"
   ]
  },
  {
   "cell_type": "code",
   "execution_count": 4,
   "id": "a88030e1",
   "metadata": {
    "ExecuteTime": {
     "end_time": "2022-08-24T07:17:50.000998Z",
     "start_time": "2022-08-24T07:17:49.982281Z"
    }
   },
   "outputs": [
    {
     "data": {
      "text/plain": [
       "array([1, 1, 2, 2, 3, 3, 4])"
      ]
     },
     "execution_count": 4,
     "metadata": {},
     "output_type": "execute_result"
    }
   ],
   "source": [
    "np.sort(a)"
   ]
  },
  {
   "cell_type": "code",
   "execution_count": 5,
   "id": "84f0feee",
   "metadata": {
    "ExecuteTime": {
     "end_time": "2022-08-24T07:17:50.016924Z",
     "start_time": "2022-08-24T07:17:50.000998Z"
    }
   },
   "outputs": [
    {
     "data": {
      "text/plain": [
       "array([[1, 2, 3, 4],\n",
       "       [5, 6, 7, 8]])"
      ]
     },
     "execution_count": 5,
     "metadata": {},
     "output_type": "execute_result"
    }
   ],
   "source": [
    "a=np.array([[1,2,3,4],[5,6,7,8]]) #2D array\n",
    "a"
   ]
  },
  {
   "cell_type": "code",
   "execution_count": 6,
   "id": "6798e357",
   "metadata": {
    "ExecuteTime": {
     "end_time": "2022-08-24T07:17:50.030339Z",
     "start_time": "2022-08-24T07:17:50.016924Z"
    }
   },
   "outputs": [
    {
     "data": {
      "text/plain": [
       "8"
      ]
     },
     "execution_count": 6,
     "metadata": {},
     "output_type": "execute_result"
    }
   ],
   "source": [
    "a.size "
   ]
  },
  {
   "cell_type": "code",
   "execution_count": 7,
   "id": "39082f13",
   "metadata": {
    "ExecuteTime": {
     "end_time": "2022-08-24T07:17:50.046329Z",
     "start_time": "2022-08-24T07:17:50.030339Z"
    }
   },
   "outputs": [
    {
     "data": {
      "text/plain": [
       "(2, 4)"
      ]
     },
     "execution_count": 7,
     "metadata": {},
     "output_type": "execute_result"
    }
   ],
   "source": [
    "a.shape "
   ]
  },
  {
   "cell_type": "code",
   "execution_count": 8,
   "id": "91793152",
   "metadata": {
    "ExecuteTime": {
     "end_time": "2022-08-24T07:17:50.058397Z",
     "start_time": "2022-08-24T07:17:50.046329Z"
    }
   },
   "outputs": [
    {
     "name": "stdout",
     "output_type": "stream",
     "text": [
      "[[1 2]\n",
      " [3 4]\n",
      " [5 6]\n",
      " [7 8]]\n",
      "(4, 2)\n"
     ]
    }
   ],
   "source": [
    "a=a.reshape(4,2)\n",
    "print(a)\n",
    "print(a.shape)"
   ]
  },
  {
   "cell_type": "code",
   "execution_count": 9,
   "id": "1ca86ae1",
   "metadata": {
    "ExecuteTime": {
     "end_time": "2022-08-24T07:17:50.074304Z",
     "start_time": "2022-08-24T07:17:50.058397Z"
    }
   },
   "outputs": [
    {
     "data": {
      "text/plain": [
       "3"
      ]
     },
     "execution_count": 9,
     "metadata": {},
     "output_type": "execute_result"
    }
   ],
   "source": [
    "a[1,0] #accesing values "
   ]
  },
  {
   "cell_type": "code",
   "execution_count": 10,
   "id": "14f339c1",
   "metadata": {
    "ExecuteTime": {
     "end_time": "2022-08-24T07:17:50.090312Z",
     "start_time": "2022-08-24T07:17:50.074304Z"
    }
   },
   "outputs": [
    {
     "data": {
      "text/plain": [
       "1"
      ]
     },
     "execution_count": 10,
     "metadata": {},
     "output_type": "execute_result"
    }
   ],
   "source": [
    "a.min()"
   ]
  },
  {
   "cell_type": "code",
   "execution_count": 11,
   "id": "4eb48b34",
   "metadata": {
    "ExecuteTime": {
     "end_time": "2022-08-24T07:17:50.106020Z",
     "start_time": "2022-08-24T07:17:50.090312Z"
    }
   },
   "outputs": [
    {
     "data": {
      "text/plain": [
       "0"
      ]
     },
     "execution_count": 11,
     "metadata": {},
     "output_type": "execute_result"
    }
   ],
   "source": [
    "#return the index of the lowest element from the array.\n",
    "np.argmin(a)"
   ]
  },
  {
   "cell_type": "code",
   "execution_count": 12,
   "id": "fc63b46d",
   "metadata": {
    "ExecuteTime": {
     "end_time": "2022-08-24T07:17:50.122042Z",
     "start_time": "2022-08-24T07:17:50.106020Z"
    }
   },
   "outputs": [
    {
     "data": {
      "text/plain": [
       "8"
      ]
     },
     "execution_count": 12,
     "metadata": {},
     "output_type": "execute_result"
    }
   ],
   "source": [
    "a.max()"
   ]
  },
  {
   "cell_type": "code",
   "execution_count": 13,
   "id": "6b8ed4fc",
   "metadata": {
    "ExecuteTime": {
     "end_time": "2022-08-24T07:17:50.138048Z",
     "start_time": "2022-08-24T07:17:50.122042Z"
    }
   },
   "outputs": [
    {
     "data": {
      "text/plain": [
       "7"
      ]
     },
     "execution_count": 13,
     "metadata": {},
     "output_type": "execute_result"
    }
   ],
   "source": [
    "#returns the index of the max element from the array\n",
    "np.argmax(a)"
   ]
  },
  {
   "cell_type": "code",
   "execution_count": 14,
   "id": "ea608081",
   "metadata": {
    "ExecuteTime": {
     "end_time": "2022-08-24T07:17:50.153987Z",
     "start_time": "2022-08-24T07:17:50.138048Z"
    }
   },
   "outputs": [
    {
     "data": {
      "text/plain": [
       "36"
      ]
     },
     "execution_count": 14,
     "metadata": {},
     "output_type": "execute_result"
    }
   ],
   "source": [
    "a.sum() #sum of all elements"
   ]
  },
  {
   "cell_type": "code",
   "execution_count": 15,
   "id": "cc3a841f",
   "metadata": {
    "ExecuteTime": {
     "end_time": "2022-08-24T07:17:50.169987Z",
     "start_time": "2022-08-24T07:17:50.153987Z"
    }
   },
   "outputs": [
    {
     "data": {
      "text/plain": [
       "array([16, 20])"
      ]
     },
     "execution_count": 15,
     "metadata": {},
     "output_type": "execute_result"
    }
   ],
   "source": [
    "a.sum(axis=0) #axis 0 means operation will be performed on rows"
   ]
  },
  {
   "cell_type": "code",
   "execution_count": 16,
   "id": "00d0e858",
   "metadata": {
    "ExecuteTime": {
     "end_time": "2022-08-24T07:17:50.186059Z",
     "start_time": "2022-08-24T07:17:50.169987Z"
    }
   },
   "outputs": [
    {
     "data": {
      "text/plain": [
       "array([ 3,  7, 11, 15])"
      ]
     },
     "execution_count": 16,
     "metadata": {},
     "output_type": "execute_result"
    }
   ],
   "source": [
    "a.sum(axis=1)  #axis 1 means operation will be performed on columns"
   ]
  },
  {
   "cell_type": "code",
   "execution_count": 17,
   "id": "5e9fda23",
   "metadata": {
    "ExecuteTime": {
     "end_time": "2022-08-24T07:17:50.202047Z",
     "start_time": "2022-08-24T07:17:50.186059Z"
    }
   },
   "outputs": [
    {
     "data": {
      "text/plain": [
       "array([10., 20., 30., 40., 50.])"
      ]
     },
     "execution_count": 17,
     "metadata": {},
     "output_type": "execute_result"
    }
   ],
   "source": [
    "# linepsace creates an array with evenly spaced float numbers over a specified interval.\n",
    "#np.linespace(start,end,no.of samples)\n",
    "\n",
    "np.linspace(10,50,5)"
   ]
  },
  {
   "cell_type": "code",
   "execution_count": 18,
   "id": "3bf2090d",
   "metadata": {
    "ExecuteTime": {
     "end_time": "2022-08-24T07:17:50.218051Z",
     "start_time": "2022-08-24T07:17:50.202047Z"
    }
   },
   "outputs": [
    {
     "data": {
      "text/plain": [
       "array([2, 7, 7, 3, 7, 3, 6, 1])"
      ]
     },
     "execution_count": 18,
     "metadata": {},
     "output_type": "execute_result"
    }
   ],
   "source": [
    "#n random integer samples within a range\n",
    "\n",
    "np.random.randint(1,10,8)  #Low is inclusive, High is exclusive  "
   ]
  },
  {
   "cell_type": "code",
   "execution_count": 19,
   "id": "85f43de5",
   "metadata": {
    "ExecuteTime": {
     "end_time": "2022-08-24T07:17:50.233985Z",
     "start_time": "2022-08-24T07:17:50.218051Z"
    }
   },
   "outputs": [
    {
     "data": {
      "text/plain": [
       "array([0, 2, 4, 4, 0])"
      ]
     },
     "execution_count": 19,
     "metadata": {},
     "output_type": "execute_result"
    }
   ],
   "source": [
    "np.random.randint(5,None,5)\n",
    "\n",
    "#if high is none then, range is from zero to low"
   ]
  },
  {
   "cell_type": "code",
   "execution_count": 20,
   "id": "37e940b3",
   "metadata": {
    "ExecuteTime": {
     "end_time": "2022-08-24T07:17:50.259882Z",
     "start_time": "2022-08-24T07:17:50.233985Z"
    }
   },
   "outputs": [
    {
     "data": {
      "text/plain": [
       "array([0.45815774, 0.21605544, 0.87010225])"
      ]
     },
     "execution_count": 20,
     "metadata": {},
     "output_type": "execute_result"
    }
   ],
   "source": [
    "#n random float samples\n",
    "\n",
    "np.random.random(3) "
   ]
  },
  {
   "cell_type": "code",
   "execution_count": 21,
   "id": "e436f6f8",
   "metadata": {
    "ExecuteTime": {
     "end_time": "2022-08-24T07:17:50.276888Z",
     "start_time": "2022-08-24T07:17:50.263884Z"
    }
   },
   "outputs": [
    {
     "data": {
      "text/plain": [
       "array([[0, 0, 0, 0],\n",
       "       [0, 0, 0, 0]])"
      ]
     },
     "execution_count": 21,
     "metadata": {},
     "output_type": "execute_result"
    }
   ],
   "source": [
    "# create an array of 0\n",
    "\n",
    "np.zeros((2,4),dtype=\"int\")\n",
    "#if desired data type not mentioned then default ‘float’"
   ]
  },
  {
   "cell_type": "code",
   "execution_count": 22,
   "id": "26529a0f",
   "metadata": {
    "ExecuteTime": {
     "end_time": "2022-08-24T07:17:50.295547Z",
     "start_time": "2022-08-24T07:17:50.276888Z"
    }
   },
   "outputs": [
    {
     "data": {
      "text/plain": [
       "array([[1., 1., 1.],\n",
       "       [1., 1., 1.],\n",
       "       [1., 1., 1.],\n",
       "       [1., 1., 1.]])"
      ]
     },
     "execution_count": 22,
     "metadata": {},
     "output_type": "execute_result"
    }
   ],
   "source": [
    "# create an array of 1\n",
    "\n",
    "np.ones((4,3))"
   ]
  },
  {
   "cell_type": "code",
   "execution_count": 23,
   "id": "ffd51672",
   "metadata": {
    "ExecuteTime": {
     "end_time": "2022-08-24T07:17:50.317424Z",
     "start_time": "2022-08-24T07:17:50.295547Z"
    }
   },
   "outputs": [
    {
     "data": {
      "text/plain": [
       "array([[9, 9, 9],\n",
       "       [9, 9, 9]])"
      ]
     },
     "execution_count": 23,
     "metadata": {},
     "output_type": "execute_result"
    }
   ],
   "source": [
    "# create an array of random value\n",
    "\n",
    "np.full((2,3),fill_value=9)"
   ]
  },
  {
   "cell_type": "code",
   "execution_count": 24,
   "id": "e1a37dc7",
   "metadata": {
    "ExecuteTime": {
     "end_time": "2022-08-24T07:17:50.333424Z",
     "start_time": "2022-08-24T07:17:50.317424Z"
    }
   },
   "outputs": [
    {
     "data": {
      "text/plain": [
       "array([[1, 0, 0],\n",
       "       [0, 1, 0],\n",
       "       [0, 0, 1]])"
      ]
     },
     "execution_count": 24,
     "metadata": {},
     "output_type": "execute_result"
    }
   ],
   "source": [
    "#Create an identity matrix with specified dimensions\n",
    "\n",
    "np.identity(3,dtype=\"int\")"
   ]
  },
  {
   "cell_type": "code",
   "execution_count": 25,
   "id": "07f89cb8",
   "metadata": {
    "ExecuteTime": {
     "end_time": "2022-08-24T07:17:50.356605Z",
     "start_time": "2022-08-24T07:17:50.333424Z"
    }
   },
   "outputs": [
    {
     "data": {
      "text/plain": [
       "(array([1, 2, 3, 4, 5, 6, 7, 8, 9]),\n",
       " array([2, 2, 3, 1, 1, 1, 1, 1, 1], dtype=int64))"
      ]
     },
     "execution_count": 25,
     "metadata": {},
     "output_type": "execute_result"
    }
   ],
   "source": [
    "#returns all the unique elements sorted & count\n",
    "\n",
    "arr=np.array([1,1,2,2,3,3,3,4,5,6,7,8,9])\n",
    "np.unique(arr,return_counts=True)  "
   ]
  },
  {
   "cell_type": "code",
   "execution_count": 26,
   "id": "149dbc0a",
   "metadata": {
    "ExecuteTime": {
     "end_time": "2022-08-24T07:17:50.372606Z",
     "start_time": "2022-08-24T07:17:50.356605Z"
    }
   },
   "outputs": [
    {
     "data": {
      "text/plain": [
       "5"
      ]
     },
     "execution_count": 26,
     "metadata": {},
     "output_type": "execute_result"
    }
   ],
   "source": [
    "#Count all the non-zero elements\n",
    "\n",
    "arr1=np.array([0,1,2,3,0,2,3])\n",
    "np.count_nonzero(arr1)"
   ]
  },
  {
   "cell_type": "code",
   "execution_count": 27,
   "id": "e54d9d32",
   "metadata": {
    "ExecuteTime": {
     "end_time": "2022-08-24T07:17:50.388609Z",
     "start_time": "2022-08-24T07:17:50.372606Z"
    }
   },
   "outputs": [
    {
     "data": {
      "text/plain": [
       "array([[1],\n",
       "       [2],\n",
       "       [3],\n",
       "       [5],\n",
       "       [6]], dtype=int64)"
      ]
     },
     "execution_count": 27,
     "metadata": {},
     "output_type": "execute_result"
    }
   ],
   "source": [
    "#return the indices of non-zero elements\n",
    "\n",
    "np.argwhere(arr1)"
   ]
  },
  {
   "cell_type": "markdown",
   "id": "cea29605",
   "metadata": {},
   "source": [
    "## Set Operations"
   ]
  },
  {
   "cell_type": "code",
   "execution_count": 28,
   "id": "648b1c17",
   "metadata": {
    "ExecuteTime": {
     "end_time": "2022-08-24T07:17:50.426998Z",
     "start_time": "2022-08-24T07:17:50.396608Z"
    }
   },
   "outputs": [
    {
     "data": {
      "text/plain": [
       "(array([5, 6, 7]),\n",
       " array([4, 5, 6], dtype=int64),\n",
       " array([0, 1, 2], dtype=int64))"
      ]
     },
     "execution_count": 28,
     "metadata": {},
     "output_type": "execute_result"
    }
   ],
   "source": [
    "# Common Elements\n",
    "\n",
    "ar1 = np.array([1,2,3,4,5,6,7])\n",
    "ar2 = np.array([5,6,7,8,9,10])\n",
    "\n",
    "np.intersect1d(ar1,ar2,return_indices=True)\n",
    "# Returns common Elements & Indices of common elements"
   ]
  },
  {
   "cell_type": "code",
   "execution_count": 29,
   "id": "20208d2a",
   "metadata": {
    "ExecuteTime": {
     "end_time": "2022-08-24T07:17:50.458718Z",
     "start_time": "2022-08-24T07:17:50.426998Z"
    }
   },
   "outputs": [
    {
     "data": {
      "text/plain": [
       "array([1, 2, 3, 4])"
      ]
     },
     "execution_count": 29,
     "metadata": {},
     "output_type": "execute_result"
    }
   ],
   "source": [
    "# Difference\n",
    "\n",
    "ar1 = np.array([1,2,3,4,5,6,7])\n",
    "ar2 = np.array([5,6,7,8,9,10])\n",
    "\n",
    "np.setdiff1d(ar1,ar2)\n",
    "# returns unique elements from array 1 that are not present in arr2."
   ]
  },
  {
   "cell_type": "code",
   "execution_count": 30,
   "id": "824e0c2f",
   "metadata": {
    "ExecuteTime": {
     "end_time": "2022-08-24T07:17:50.474725Z",
     "start_time": "2022-08-24T07:17:50.458718Z"
    }
   },
   "outputs": [
    {
     "data": {
      "text/plain": [
       "array([ 1,  2,  3,  4,  8,  9, 10])"
      ]
     },
     "execution_count": 30,
     "metadata": {},
     "output_type": "execute_result"
    }
   ],
   "source": [
    "# Unique Elements From Both Arrays\n",
    "\n",
    "ar1 = np.array([1,2,3,4,5,6,7])\n",
    "ar2 = np.array([5,6,7,8,9,10])\n",
    "\n",
    "np.setxor1d(ar1,ar2)"
   ]
  },
  {
   "cell_type": "code",
   "execution_count": 31,
   "id": "1cb79a0b",
   "metadata": {
    "ExecuteTime": {
     "end_time": "2022-08-24T07:17:50.490815Z",
     "start_time": "2022-08-24T07:17:50.475475Z"
    }
   },
   "outputs": [
    {
     "data": {
      "text/plain": [
       "array([ 1,  2,  3,  4,  5,  6,  7,  8,  9, 10])"
      ]
     },
     "execution_count": 31,
     "metadata": {},
     "output_type": "execute_result"
    }
   ],
   "source": [
    "# combine both arrays into one (Union)\n",
    "\n",
    "ar1 = np.array([1,2,3,4,5,6,7])\n",
    "ar2 = np.array([5,6,7,8,9,10])\n",
    "\n",
    "np.union1d(ar1,ar2)"
   ]
  },
  {
   "cell_type": "markdown",
   "id": "e0315475",
   "metadata": {},
   "source": [
    "## Splitting"
   ]
  },
  {
   "cell_type": "code",
   "execution_count": 32,
   "id": "4871a6c8",
   "metadata": {
    "ExecuteTime": {
     "end_time": "2022-08-24T07:17:50.506181Z",
     "start_time": "2022-08-24T07:17:50.490815Z"
    },
    "scrolled": true
   },
   "outputs": [
    {
     "data": {
      "text/plain": [
       "[array([[1],\n",
       "        [5]]),\n",
       " array([[2],\n",
       "        [6]]),\n",
       " array([[3],\n",
       "        [7]]),\n",
       " array([[4],\n",
       "        [8]])]"
      ]
     },
     "execution_count": 32,
     "metadata": {},
     "output_type": "execute_result"
    }
   ],
   "source": [
    "#Horizontal Split\n",
    "\n",
    "A = np.array([[1,2,3,4],[5,6,7,8]])\n",
    "np.hsplit(A,4) #splits the data into four equal parts"
   ]
  },
  {
   "cell_type": "code",
   "execution_count": 33,
   "id": "598b7dd5",
   "metadata": {
    "ExecuteTime": {
     "end_time": "2022-08-24T07:17:50.529629Z",
     "start_time": "2022-08-24T07:17:50.506181Z"
    }
   },
   "outputs": [
    {
     "data": {
      "text/plain": [
       "[array([[1, 2, 3, 4]]), array([[5, 6, 7, 8]])]"
      ]
     },
     "execution_count": 33,
     "metadata": {},
     "output_type": "execute_result"
    }
   ],
   "source": [
    "# Vertical Split\n",
    "\n",
    "A = np.array([[1,2,3,4],[5,6,7,8]])\n",
    "np.vsplit(A,2) #splits the data into two equal parts"
   ]
  },
  {
   "cell_type": "markdown",
   "id": "ba08f222",
   "metadata": {},
   "source": [
    "## Stacking"
   ]
  },
  {
   "cell_type": "code",
   "execution_count": 34,
   "id": "24174caf",
   "metadata": {
    "ExecuteTime": {
     "end_time": "2022-08-24T07:17:50.540704Z",
     "start_time": "2022-08-24T07:17:50.532655Z"
    }
   },
   "outputs": [
    {
     "data": {
      "text/plain": [
       "array([ 1,  2,  3,  4,  5,  1,  4,  9, 16, 25])"
      ]
     },
     "execution_count": 34,
     "metadata": {},
     "output_type": "execute_result"
    }
   ],
   "source": [
    "#  Horizontal Stacking -> appends one array at the end of another.\n",
    "\n",
    "a = np.array([1,2,3,4,5])\n",
    "b = np.array([1,4,9,16,25])\n",
    "\n",
    "np.hstack((a,b))\n"
   ]
  },
  {
   "cell_type": "code",
   "execution_count": 35,
   "id": "5326640b",
   "metadata": {
    "ExecuteTime": {
     "end_time": "2022-08-24T07:17:50.552287Z",
     "start_time": "2022-08-24T07:17:50.544235Z"
    }
   },
   "outputs": [
    {
     "data": {
      "text/plain": [
       "array([[ 1,  2,  3,  4,  5],\n",
       "       [ 1,  4,  9, 16, 25]])"
      ]
     },
     "execution_count": 35,
     "metadata": {},
     "output_type": "execute_result"
    }
   ],
   "source": [
    "# Vertical Stacking -> stack one array on top of another.\n",
    "\n",
    "a = np.array([1,2,3,4,5])\n",
    "b = np.array([1,4,9,16,25])\n",
    "\n",
    "np.vstack((a,b))"
   ]
  },
  {
   "cell_type": "markdown",
   "id": "04b09a05",
   "metadata": {},
   "source": [
    "## Comparing Two Arrays"
   ]
  },
  {
   "cell_type": "code",
   "execution_count": 36,
   "id": "32169f64",
   "metadata": {
    "ExecuteTime": {
     "end_time": "2022-08-24T07:17:50.569644Z",
     "start_time": "2022-08-24T07:17:50.552287Z"
    }
   },
   "outputs": [
    {
     "name": "stdout",
     "output_type": "stream",
     "text": [
      "True\n",
      "False\n"
     ]
    }
   ],
   "source": [
    "# whether two arrays are approx. equal to each other based on some tolerance value\n",
    "\n",
    "a1 = np.array([1,2,3,4])\n",
    "b1 = np.array([1.1,2.1,3.1,4.1])\n",
    "\n",
    "tolerance = 0.2 \n",
    "print(np.allclose(a1,b1,tolerance))\n",
    "\n",
    "tolerance = 0.05\n",
    "print(np.allclose(a1,b1,tolerance))"
   ]
  },
  {
   "cell_type": "code",
   "execution_count": 37,
   "id": "b30bde11",
   "metadata": {
    "ExecuteTime": {
     "end_time": "2022-08-24T07:17:50.585640Z",
     "start_time": "2022-08-24T07:17:50.569644Z"
    }
   },
   "outputs": [
    {
     "data": {
      "text/plain": [
       "array([ True,  True,  True, False])"
      ]
     },
     "execution_count": 37,
     "metadata": {},
     "output_type": "execute_result"
    }
   ],
   "source": [
    "# whether two arrays are exactly equal\n",
    "\n",
    "a2=np.array([1,8,27,64])\n",
    "b2=np.array([1,8,27,68])\n",
    "\n",
    "np.equal(a2,b2)"
   ]
  }
 ],
 "metadata": {
  "gist": {
   "data": {
    "description": "Varun_ds/numpy & duplicates.ipynb",
    "public": true
   },
   "id": ""
  },
  "kernelspec": {
   "display_name": "Python 3 (ipykernel)",
   "language": "python",
   "name": "python3"
  },
  "language_info": {
   "codemirror_mode": {
    "name": "ipython",
    "version": 3
   },
   "file_extension": ".py",
   "mimetype": "text/x-python",
   "name": "python",
   "nbconvert_exporter": "python",
   "pygments_lexer": "ipython3",
   "version": "3.9.12"
  }
 },
 "nbformat": 4,
 "nbformat_minor": 5
}
