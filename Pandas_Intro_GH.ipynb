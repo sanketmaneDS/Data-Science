{
 "cells": [
  {
   "cell_type": "markdown",
   "id": "ebc54972",
   "metadata": {},
   "source": [
    "# Introduction To Pandas"
   ]
  },
  {
   "cell_type": "code",
   "execution_count": null,
   "id": "4f35b099",
   "metadata": {
    "ExecuteTime": {
     "end_time": "2022-08-13T03:53:36.679825Z",
     "start_time": "2022-08-13T03:53:34.275394Z"
    }
   },
   "outputs": [],
   "source": [
    "!pip install numpy "
   ]
  },
  {
   "cell_type": "code",
   "execution_count": null,
   "id": "44fcb982",
   "metadata": {
    "ExecuteTime": {
     "end_time": "2022-08-13T03:54:01.902514Z",
     "start_time": "2022-08-13T03:53:59.817827Z"
    }
   },
   "outputs": [],
   "source": [
    "!pip install pandas "
   ]
  },
  {
   "cell_type": "code",
   "execution_count": 2,
   "id": "13de6c50",
   "metadata": {
    "ExecuteTime": {
     "end_time": "2022-08-16T07:35:46.952102Z",
     "start_time": "2022-08-16T07:35:46.607830Z"
    }
   },
   "outputs": [],
   "source": [
    "import pandas as pd   # pandas perform data manipulation, slicing and dicing data\n",
    "import numpy as np    #NumPy provide efficient data operations on arrays, matrices and algebra"
   ]
  },
  {
   "cell_type": "code",
   "execution_count": 3,
   "id": "cd3d6825",
   "metadata": {
    "ExecuteTime": {
     "end_time": "2022-08-16T07:35:48.227094Z",
     "start_time": "2022-08-16T07:35:48.187020Z"
    }
   },
   "outputs": [
    {
     "data": {
      "text/html": [
       "<div>\n",
       "<style scoped>\n",
       "    .dataframe tbody tr th:only-of-type {\n",
       "        vertical-align: middle;\n",
       "    }\n",
       "\n",
       "    .dataframe tbody tr th {\n",
       "        vertical-align: top;\n",
       "    }\n",
       "\n",
       "    .dataframe thead th {\n",
       "        text-align: right;\n",
       "    }\n",
       "</style>\n",
       "<table border=\"1\" class=\"dataframe\">\n",
       "  <thead>\n",
       "    <tr style=\"text-align: right;\">\n",
       "      <th></th>\n",
       "      <th>rank</th>\n",
       "      <th>discipline</th>\n",
       "      <th>phd</th>\n",
       "      <th>service</th>\n",
       "      <th>sex</th>\n",
       "      <th>salary</th>\n",
       "    </tr>\n",
       "  </thead>\n",
       "  <tbody>\n",
       "    <tr>\n",
       "      <th>0</th>\n",
       "      <td>Prof</td>\n",
       "      <td>B</td>\n",
       "      <td>56</td>\n",
       "      <td>49</td>\n",
       "      <td>Male</td>\n",
       "      <td>186960</td>\n",
       "    </tr>\n",
       "    <tr>\n",
       "      <th>1</th>\n",
       "      <td>Prof</td>\n",
       "      <td>A</td>\n",
       "      <td>12</td>\n",
       "      <td>6</td>\n",
       "      <td>Male</td>\n",
       "      <td>93000</td>\n",
       "    </tr>\n",
       "    <tr>\n",
       "      <th>2</th>\n",
       "      <td>Prof</td>\n",
       "      <td>A</td>\n",
       "      <td>23</td>\n",
       "      <td>20</td>\n",
       "      <td>Male</td>\n",
       "      <td>110515</td>\n",
       "    </tr>\n",
       "    <tr>\n",
       "      <th>3</th>\n",
       "      <td>Prof</td>\n",
       "      <td>A</td>\n",
       "      <td>40</td>\n",
       "      <td>31</td>\n",
       "      <td>Male</td>\n",
       "      <td>131205</td>\n",
       "    </tr>\n",
       "    <tr>\n",
       "      <th>4</th>\n",
       "      <td>Prof</td>\n",
       "      <td>B</td>\n",
       "      <td>20</td>\n",
       "      <td>18</td>\n",
       "      <td>Male</td>\n",
       "      <td>104800</td>\n",
       "    </tr>\n",
       "    <tr>\n",
       "      <th>...</th>\n",
       "      <td>...</td>\n",
       "      <td>...</td>\n",
       "      <td>...</td>\n",
       "      <td>...</td>\n",
       "      <td>...</td>\n",
       "      <td>...</td>\n",
       "    </tr>\n",
       "    <tr>\n",
       "      <th>73</th>\n",
       "      <td>Prof</td>\n",
       "      <td>B</td>\n",
       "      <td>18</td>\n",
       "      <td>10</td>\n",
       "      <td>Female</td>\n",
       "      <td>105450</td>\n",
       "    </tr>\n",
       "    <tr>\n",
       "      <th>74</th>\n",
       "      <td>AssocProf</td>\n",
       "      <td>B</td>\n",
       "      <td>19</td>\n",
       "      <td>6</td>\n",
       "      <td>Female</td>\n",
       "      <td>104542</td>\n",
       "    </tr>\n",
       "    <tr>\n",
       "      <th>75</th>\n",
       "      <td>Prof</td>\n",
       "      <td>B</td>\n",
       "      <td>17</td>\n",
       "      <td>17</td>\n",
       "      <td>Female</td>\n",
       "      <td>124312</td>\n",
       "    </tr>\n",
       "    <tr>\n",
       "      <th>76</th>\n",
       "      <td>Prof</td>\n",
       "      <td>A</td>\n",
       "      <td>28</td>\n",
       "      <td>14</td>\n",
       "      <td>Female</td>\n",
       "      <td>109954</td>\n",
       "    </tr>\n",
       "    <tr>\n",
       "      <th>77</th>\n",
       "      <td>Prof</td>\n",
       "      <td>A</td>\n",
       "      <td>23</td>\n",
       "      <td>15</td>\n",
       "      <td>Female</td>\n",
       "      <td>109646</td>\n",
       "    </tr>\n",
       "  </tbody>\n",
       "</table>\n",
       "<p>78 rows × 6 columns</p>\n",
       "</div>"
      ],
      "text/plain": [
       "         rank discipline  phd  service     sex  salary\n",
       "0        Prof          B   56       49    Male  186960\n",
       "1        Prof          A   12        6    Male   93000\n",
       "2        Prof          A   23       20    Male  110515\n",
       "3        Prof          A   40       31    Male  131205\n",
       "4        Prof          B   20       18    Male  104800\n",
       "..        ...        ...  ...      ...     ...     ...\n",
       "73       Prof          B   18       10  Female  105450\n",
       "74  AssocProf          B   19        6  Female  104542\n",
       "75       Prof          B   17       17  Female  124312\n",
       "76       Prof          A   28       14  Female  109954\n",
       "77       Prof          A   23       15  Female  109646\n",
       "\n",
       "[78 rows x 6 columns]"
      ]
     },
     "execution_count": 3,
     "metadata": {},
     "output_type": "execute_result"
    }
   ],
   "source": [
    "df = pd.read_csv(\"Salaries.csv\")   # Pandas allows importing data from various file formats\n",
    "df "
   ]
  },
  {
   "cell_type": "markdown",
   "id": "ed97dc22",
   "metadata": {},
   "source": [
    "# Functions are customizable, hence there is a parenthesis, where we can pass argument to modify the output accordingly. "
   ]
  },
  {
   "cell_type": "code",
   "execution_count": null,
   "id": "1179486c",
   "metadata": {
    "ExecuteTime": {
     "end_time": "2022-08-13T04:07:15.195058Z",
     "start_time": "2022-08-13T04:07:15.185936Z"
    }
   },
   "outputs": [],
   "source": [
    "df.head()  # shows first 5 records by default"
   ]
  },
  {
   "cell_type": "code",
   "execution_count": null,
   "id": "0718344f",
   "metadata": {
    "ExecuteTime": {
     "end_time": "2022-08-13T04:09:17.120383Z",
     "start_time": "2022-08-13T04:09:17.106600Z"
    }
   },
   "outputs": [],
   "source": [
    "df.head(10)   # shows first n records, where n is no. passed to function df.head()"
   ]
  },
  {
   "cell_type": "code",
   "execution_count": null,
   "id": "7cb303fd",
   "metadata": {
    "ExecuteTime": {
     "end_time": "2022-08-16T05:53:34.870505Z",
     "start_time": "2022-08-16T05:53:34.846511Z"
    }
   },
   "outputs": [],
   "source": [
    "df.tail()   # shows last 5 records by default"
   ]
  },
  {
   "cell_type": "code",
   "execution_count": null,
   "id": "71fe47b9",
   "metadata": {
    "ExecuteTime": {
     "end_time": "2022-08-13T04:10:12.948181Z",
     "start_time": "2022-08-13T04:10:12.940239Z"
    },
    "scrolled": true
   },
   "outputs": [],
   "source": [
    "df.tail(10)  # shows last n records, where n is no. passed to function df.tail()"
   ]
  },
  {
   "cell_type": "markdown",
   "id": "1446d750",
   "metadata": {},
   "source": [
    "# Attributes are not customizable, hence there is no parenthesis where we can pass arguments."
   ]
  },
  {
   "cell_type": "code",
   "execution_count": null,
   "id": "bd90fec6",
   "metadata": {
    "ExecuteTime": {
     "end_time": "2022-08-16T05:57:59.199627Z",
     "start_time": "2022-08-16T05:57:59.183628Z"
    },
    "scrolled": true
   },
   "outputs": [],
   "source": [
    "df.dtypes # shows data type of all variable in df; here, object means string"
   ]
  },
  {
   "cell_type": "code",
   "execution_count": null,
   "id": "82b732cc",
   "metadata": {
    "ExecuteTime": {
     "end_time": "2022-08-13T04:15:33.504005Z",
     "start_time": "2022-08-13T04:15:33.499023Z"
    }
   },
   "outputs": [],
   "source": [
    "df[\"salary\"].dtype  #data type of specified variable; [ ] is used to refer a column from df"
   ]
  },
  {
   "cell_type": "code",
   "execution_count": null,
   "id": "5489fe0f",
   "metadata": {
    "ExecuteTime": {
     "end_time": "2022-08-13T04:10:52.853893Z",
     "start_time": "2022-08-13T04:10:52.841926Z"
    }
   },
   "outputs": [],
   "source": [
    "df.shape   # shows shape i.e (no. of rows, no. of columns) of given df     "
   ]
  },
  {
   "cell_type": "code",
   "execution_count": null,
   "id": "a0b3409c",
   "metadata": {
    "ExecuteTime": {
     "end_time": "2022-08-16T06:07:22.954688Z",
     "start_time": "2022-08-16T06:07:22.938687Z"
    }
   },
   "outputs": [],
   "source": [
    "df.size    # shows total no. of elements in df"
   ]
  },
  {
   "cell_type": "code",
   "execution_count": null,
   "id": "d94d30c1",
   "metadata": {},
   "outputs": [],
   "source": [
    "df.ndim   #gives no. of dimensions"
   ]
  },
  {
   "cell_type": "code",
   "execution_count": null,
   "id": "474085e1",
   "metadata": {
    "ExecuteTime": {
     "end_time": "2022-08-16T06:07:54.063254Z",
     "start_time": "2022-08-16T06:07:54.047255Z"
    }
   },
   "outputs": [],
   "source": [
    "#data frame is made up of row index,column index and values\n",
    "\n",
    "df.index  # gives row indexes"
   ]
  },
  {
   "cell_type": "code",
   "execution_count": null,
   "id": "78eedb46",
   "metadata": {
    "ExecuteTime": {
     "end_time": "2022-08-16T06:08:23.826035Z",
     "start_time": "2022-08-16T06:08:23.810403Z"
    }
   },
   "outputs": [],
   "source": [
    "df.columns #gives column indexes"
   ]
  },
  {
   "cell_type": "code",
   "execution_count": null,
   "id": "565bfa25",
   "metadata": {
    "ExecuteTime": {
     "end_time": "2022-08-13T04:25:49.726322Z",
     "start_time": "2022-08-13T04:25:49.711543Z"
    }
   },
   "outputs": [],
   "source": [
    "df.axes  #gives row indexes and column indexes combined"
   ]
  },
  {
   "cell_type": "code",
   "execution_count": null,
   "id": "73bdcb67",
   "metadata": {
    "ExecuteTime": {
     "end_time": "2022-08-13T04:26:21.556300Z",
     "start_time": "2022-08-13T04:26:21.524829Z"
    }
   },
   "outputs": [],
   "source": [
    "df.values  #gives values of data frame"
   ]
  },
  {
   "cell_type": "code",
   "execution_count": null,
   "id": "36c9fb01",
   "metadata": {},
   "outputs": [],
   "source": []
  },
  {
   "cell_type": "code",
   "execution_count": null,
   "id": "91000616",
   "metadata": {
    "ExecuteTime": {
     "end_time": "2022-08-13T04:34:40.220041Z",
     "start_time": "2022-08-13T04:34:40.198074Z"
    }
   },
   "outputs": [],
   "source": [
    "df.describe()  #summary of data frame"
   ]
  },
  {
   "cell_type": "code",
   "execution_count": 4,
   "id": "6fe24216",
   "metadata": {
    "ExecuteTime": {
     "end_time": "2022-08-16T07:35:52.905259Z",
     "start_time": "2022-08-16T07:35:52.889258Z"
    }
   },
   "outputs": [
    {
     "name": "stdout",
     "output_type": "stream",
     "text": [
      "<class 'pandas.core.frame.DataFrame'>\n",
      "RangeIndex: 78 entries, 0 to 77\n",
      "Data columns (total 6 columns):\n",
      " #   Column      Non-Null Count  Dtype \n",
      "---  ------      --------------  ----- \n",
      " 0   rank        78 non-null     object\n",
      " 1   discipline  78 non-null     object\n",
      " 2   phd         78 non-null     int64 \n",
      " 3   service     78 non-null     int64 \n",
      " 4   sex         78 non-null     object\n",
      " 5   salary      78 non-null     int64 \n",
      "dtypes: int64(3), object(3)\n",
      "memory usage: 3.8+ KB\n"
     ]
    }
   ],
   "source": [
    "df.info()     #gives names of columns, no. of non null entries, and data type of each column"
   ]
  },
  {
   "cell_type": "code",
   "execution_count": null,
   "id": "dab0617c",
   "metadata": {},
   "outputs": [],
   "source": [
    "# df.info , df.describe if typed without () then both willl print df as it is "
   ]
  },
  {
   "cell_type": "code",
   "execution_count": null,
   "id": "1ee25edd",
   "metadata": {},
   "outputs": [],
   "source": [
    "df.min()  # min for categorical variable -> gives alphabetically 1st element"
   ]
  },
  {
   "cell_type": "code",
   "execution_count": null,
   "id": "77c8cba4",
   "metadata": {
    "ExecuteTime": {
     "end_time": "2022-08-13T04:45:23.675471Z",
     "start_time": "2022-08-13T04:45:23.660538Z"
    }
   },
   "outputs": [],
   "source": [
    "df.max()   # max for categorical variable -> gives alphabetically last element"
   ]
  },
  {
   "cell_type": "code",
   "execution_count": null,
   "id": "3a3d5679",
   "metadata": {
    "ExecuteTime": {
     "end_time": "2022-08-16T07:31:39.347786Z",
     "start_time": "2022-08-16T07:31:39.339714Z"
    }
   },
   "outputs": [],
   "source": [
    "df[\"phd\"].count()  #count() gives no. of entries in specified column"
   ]
  },
  {
   "cell_type": "code",
   "execution_count": null,
   "id": "11e72f5b",
   "metadata": {
    "ExecuteTime": {
     "end_time": "2022-08-16T07:26:20.413146Z",
     "start_time": "2022-08-16T07:26:20.389146Z"
    }
   },
   "outputs": [],
   "source": [
    "df[\"sex\"].value_counts()  #value_counts() is for categorical variable,"
   ]
  },
  {
   "cell_type": "code",
   "execution_count": null,
   "id": "7c5050ff",
   "metadata": {
    "ExecuteTime": {
     "end_time": "2022-08-16T07:27:38.461482Z",
     "start_time": "2022-08-16T07:27:38.445482Z"
    }
   },
   "outputs": [],
   "source": [
    "df[[\"rank\",\"sex\"]].value_counts()"
   ]
  },
  {
   "cell_type": "code",
   "execution_count": null,
   "id": "4be7957c",
   "metadata": {},
   "outputs": [],
   "source": [
    "df.mean()  # gives mean for numerical variable"
   ]
  },
  {
   "cell_type": "code",
   "execution_count": null,
   "id": "20d1a68d",
   "metadata": {
    "ExecuteTime": {
     "end_time": "2022-08-13T04:46:16.632412Z",
     "start_time": "2022-08-13T04:46:16.623484Z"
    }
   },
   "outputs": [],
   "source": [
    "df[\"phd\"].mean()  # mean of specified variable \"phd\""
   ]
  },
  {
   "cell_type": "code",
   "execution_count": null,
   "id": "8031e48c",
   "metadata": {
    "ExecuteTime": {
     "end_time": "2022-08-13T04:47:49.136054Z",
     "start_time": "2022-08-13T04:47:49.110047Z"
    }
   },
   "outputs": [],
   "source": [
    "df.median()"
   ]
  },
  {
   "cell_type": "code",
   "execution_count": 5,
   "id": "64db0c94",
   "metadata": {
    "ExecuteTime": {
     "end_time": "2022-08-16T07:39:04.603227Z",
     "start_time": "2022-08-16T07:39:04.301200Z"
    }
   },
   "outputs": [
    {
     "name": "stderr",
     "output_type": "stream",
     "text": [
      "C:\\Users\\Adhik\\AppData\\Local\\Temp\\ipykernel_10268\\1568254755.py:1: FutureWarning: Dropping of nuisance columns in DataFrame reductions (with 'numeric_only=None') is deprecated; in a future version this will raise TypeError.  Select only valid columns before calling the reduction.\n",
      "  df.var()\n"
     ]
    },
    {
     "data": {
      "text/plain": [
       "phd        1.562106e+02\n",
       "service    1.473740e+02\n",
       "salary     8.005313e+08\n",
       "dtype: float64"
      ]
     },
     "execution_count": 5,
     "metadata": {},
     "output_type": "execute_result"
    }
   ],
   "source": [
    "df.var()  # variance "
   ]
  },
  {
   "cell_type": "code",
   "execution_count": 6,
   "id": "74d97ff6",
   "metadata": {
    "ExecuteTime": {
     "end_time": "2022-08-16T07:39:10.627802Z",
     "start_time": "2022-08-16T07:39:10.597545Z"
    }
   },
   "outputs": [
    {
     "name": "stderr",
     "output_type": "stream",
     "text": [
      "C:\\Users\\Adhik\\AppData\\Local\\Temp\\ipykernel_10268\\2316859360.py:1: FutureWarning: Dropping of nuisance columns in DataFrame reductions (with 'numeric_only=None') is deprecated; in a future version this will raise TypeError.  Select only valid columns before calling the reduction.\n",
      "  df.std()    # gives standard deviation\n"
     ]
    },
    {
     "data": {
      "text/plain": [
       "phd           12.498425\n",
       "service       12.139768\n",
       "salary     28293.661022\n",
       "dtype: float64"
      ]
     },
     "execution_count": 6,
     "metadata": {},
     "output_type": "execute_result"
    }
   ],
   "source": [
    "df.std()    # standard deviation"
   ]
  },
  {
   "cell_type": "code",
   "execution_count": 7,
   "id": "ac38dd61",
   "metadata": {
    "ExecuteTime": {
     "end_time": "2022-08-16T07:40:54.995605Z",
     "start_time": "2022-08-16T07:40:54.959933Z"
    }
   },
   "outputs": [
    {
     "name": "stderr",
     "output_type": "stream",
     "text": [
      "C:\\Users\\Adhik\\AppData\\Local\\Temp\\ipykernel_10268\\1665899112.py:1: FutureWarning: Dropping of nuisance columns in DataFrame reductions (with 'numeric_only=None') is deprecated; in a future version this will raise TypeError.  Select only valid columns before calling the reduction.\n",
      "  df.skew()\n"
     ]
    },
    {
     "data": {
      "text/plain": [
       "phd        0.634366\n",
       "service    0.913750\n",
       "salary     0.452103\n",
       "dtype: float64"
      ]
     },
     "execution_count": 7,
     "metadata": {},
     "output_type": "execute_result"
    }
   ],
   "source": [
    "df.skew()\n",
    "#skewness +ve -> right skewed data -> mean>median\n",
    "#skewness -ve -> left skewed data -> mean<median\n",
    "#skewness zero -> perfectly symmetrical data -> mean = median"
   ]
  },
  {
   "cell_type": "code",
   "execution_count": 8,
   "id": "dfdadaab",
   "metadata": {
    "ExecuteTime": {
     "end_time": "2022-08-16T07:48:48.931249Z",
     "start_time": "2022-08-16T07:48:48.905255Z"
    }
   },
   "outputs": [
    {
     "name": "stderr",
     "output_type": "stream",
     "text": [
      "C:\\Users\\Adhik\\AppData\\Local\\Temp\\ipykernel_10268\\1257127604.py:1: FutureWarning: Dropping of nuisance columns in DataFrame reductions (with 'numeric_only=None') is deprecated; in a future version this will raise TypeError.  Select only valid columns before calling the reduction.\n",
      "  df.kurt()\n"
     ]
    },
    {
     "data": {
      "text/plain": [
       "phd        0.042504\n",
       "service    0.608981\n",
       "salary    -0.401713\n",
       "dtype: float64"
      ]
     },
     "execution_count": 8,
     "metadata": {},
     "output_type": "execute_result"
    }
   ],
   "source": [
    "df.kurt()\n",
    "#kurtosis > 3 -> sharp peak -> thin tail (very less observations at ends)\n",
    "#kurtosis < 3 -> flat distribution -> fat tails (most of observations at ends)\n",
    "#kurtosis = 3 -> normal distribution"
   ]
  },
  {
   "cell_type": "code",
   "execution_count": null,
   "id": "e820cac0",
   "metadata": {
    "ExecuteTime": {
     "end_time": "2022-08-13T04:48:14.391342Z",
     "start_time": "2022-08-13T04:48:14.368030Z"
    }
   },
   "outputs": [],
   "source": [
    "df.sample(10)  # 10 random samples from df"
   ]
  },
  {
   "cell_type": "code",
   "execution_count": null,
   "id": "398b9817",
   "metadata": {
    "ExecuteTime": {
     "end_time": "2022-08-13T04:48:36.229802Z",
     "start_time": "2022-08-13T04:48:36.209747Z"
    }
   },
   "outputs": [],
   "source": [
    "df.sample(frac=0.1)  # no. of samples given is 10% of no. of entries in df"
   ]
  },
  {
   "cell_type": "code",
   "execution_count": null,
   "id": "3036017e",
   "metadata": {
    "ExecuteTime": {
     "end_time": "2022-08-13T04:49:10.482624Z",
     "start_time": "2022-08-13T04:49:10.450961Z"
    }
   },
   "outputs": [],
   "source": [
    "df.dropna()  #drop missing values"
   ]
  },
  {
   "cell_type": "code",
   "execution_count": null,
   "id": "9b22f429",
   "metadata": {},
   "outputs": [],
   "source": []
  },
  {
   "cell_type": "code",
   "execution_count": null,
   "id": "664c78a6",
   "metadata": {
    "ExecuteTime": {
     "end_time": "2022-08-13T04:58:35.177625Z",
     "start_time": "2022-08-13T04:58:35.163631Z"
    }
   },
   "outputs": [],
   "source": [
    "df.salary.head().mean()"
   ]
  },
  {
   "cell_type": "code",
   "execution_count": null,
   "id": "cc35f5ee",
   "metadata": {
    "ExecuteTime": {
     "end_time": "2022-08-13T04:59:09.728192Z",
     "start_time": "2022-08-13T04:59:09.714048Z"
    }
   },
   "outputs": [],
   "source": [
    "df[\"salary\"].head().mean()  # prefered way over above code\n",
    "# gives mean of first 5 salary entries."
   ]
  },
  {
   "cell_type": "code",
   "execution_count": null,
   "id": "93463cb5",
   "metadata": {
    "ExecuteTime": {
     "end_time": "2022-08-13T05:00:33.008951Z",
     "start_time": "2022-08-13T05:00:32.999982Z"
    }
   },
   "outputs": [],
   "source": [
    "df[[\"salary\",\"service\"]].head().mean()  #for 2 columns\n",
    "# first [] refers to column, second [] indicates list of columns\n",
    "# list [\"salary\",\"service\"] is given as input since it takes only one ip"
   ]
  },
  {
   "cell_type": "code",
   "execution_count": null,
   "id": "81c261cb",
   "metadata": {},
   "outputs": [],
   "source": []
  },
  {
   "cell_type": "code",
   "execution_count": null,
   "id": "25aee0c7",
   "metadata": {
    "ExecuteTime": {
     "end_time": "2022-08-16T06:30:29.463118Z",
     "start_time": "2022-08-16T06:30:29.431130Z"
    }
   },
   "outputs": [],
   "source": [
    "#groupby is used for categorical variables\n",
    "df.groupby(\"sex\").mean()\n",
    "#groups sex into male and female and then gives mean of all numerical columns for male and female separately"
   ]
  },
  {
   "cell_type": "code",
   "execution_count": null,
   "id": "e45675ed",
   "metadata": {
    "ExecuteTime": {
     "end_time": "2022-08-13T05:44:00.137241Z",
     "start_time": "2022-08-13T05:44:00.120241Z"
    }
   },
   "outputs": [],
   "source": [
    "df.groupby(\"sex\")[[\"salary\"]].mean()\n",
    "#groups sex into male and female and then gives mean of their salary "
   ]
  },
  {
   "cell_type": "code",
   "execution_count": null,
   "id": "68dc2285",
   "metadata": {},
   "outputs": [],
   "source": []
  },
  {
   "cell_type": "markdown",
   "id": "d9545519",
   "metadata": {},
   "source": [
    "# Slicing by value -> Conditions -> Slices just rows, not columns"
   ]
  },
  {
   "cell_type": "code",
   "execution_count": null,
   "id": "e66fd784",
   "metadata": {},
   "outputs": [],
   "source": [
    "# for numerical variable, there are 6 ways of conditions, i.e ==, !=, >=, <= ,>, < \n",
    "# for categorical variable, there are 2 ways of condotions, i.e ==, !="
   ]
  },
  {
   "cell_type": "code",
   "execution_count": null,
   "id": "020445c3",
   "metadata": {
    "ExecuteTime": {
     "end_time": "2022-08-13T05:45:43.241777Z",
     "start_time": "2022-08-13T05:45:43.235855Z"
    }
   },
   "outputs": [],
   "source": [
    "df[\"salary\"]>=150000  #give serial no.s having salary >= 1.5l"
   ]
  },
  {
   "cell_type": "code",
   "execution_count": null,
   "id": "ff100399",
   "metadata": {
    "ExecuteTime": {
     "end_time": "2022-08-13T05:45:57.448064Z",
     "start_time": "2022-08-13T05:45:57.436145Z"
    }
   },
   "outputs": [],
   "source": [
    "df[df[\"salary\"]>=150000]   ##give entries having salary >= 1.5l"
   ]
  },
  {
   "cell_type": "code",
   "execution_count": null,
   "id": "99b9b748",
   "metadata": {
    "ExecuteTime": {
     "end_time": "2022-08-13T05:50:16.063160Z",
     "start_time": "2022-08-13T05:50:16.039656Z"
    }
   },
   "outputs": [],
   "source": [
    "df[df[\"discipline\"]==\"B\"]"
   ]
  },
  {
   "cell_type": "code",
   "execution_count": null,
   "id": "5aed3b25",
   "metadata": {
    "ExecuteTime": {
     "end_time": "2022-08-13T05:56:43.302805Z",
     "start_time": "2022-08-13T05:56:43.283840Z"
    }
   },
   "outputs": [],
   "source": [
    "#passed by reference(prefered way)\n",
    "con1=df[\"sex\"]==\"Male\"\n",
    "con2=df[\"salary\"]>=160000\n",
    "\n",
    "df[con1 & con2]"
   ]
  },
  {
   "cell_type": "code",
   "execution_count": null,
   "id": "693b0fa0",
   "metadata": {
    "ExecuteTime": {
     "end_time": "2022-08-13T06:28:28.394315Z",
     "start_time": "2022-08-13T06:28:28.380384Z"
    }
   },
   "outputs": [],
   "source": [
    "#passed by value\n",
    "df[(df[\"salary\"]>150000) & (df[\"rank\"]==\"Prof\")]"
   ]
  },
  {
   "cell_type": "markdown",
   "id": "73939fb3",
   "metadata": {},
   "source": [
    "# Slicing by index nos. -> loc, iloc -> Slices both rows and columns"
   ]
  },
  {
   "cell_type": "code",
   "execution_count": null,
   "id": "3f7dad48",
   "metadata": {},
   "outputs": [],
   "source": [
    "#iloc -> give index no. of column \n",
    "#loc -> give name of column"
   ]
  },
  {
   "cell_type": "code",
   "execution_count": null,
   "id": "2a2508ab",
   "metadata": {
    "ExecuteTime": {
     "end_time": "2022-08-13T06:00:57.595686Z",
     "start_time": "2022-08-13T06:00:57.575707Z"
    }
   },
   "outputs": [],
   "source": [
    "df.iloc[:,0:3]   # [rows,columns] ->gives all rows and column 0 to 2"
   ]
  },
  {
   "cell_type": "code",
   "execution_count": null,
   "id": "f74085a0",
   "metadata": {},
   "outputs": [],
   "source": [
    "df.loc[0:10, \"rank\":\"phd\"]   # gives row entries from 0 to 9 for column rank to phd"
   ]
  },
  {
   "cell_type": "code",
   "execution_count": null,
   "id": "73524bb6",
   "metadata": {
    "ExecuteTime": {
     "end_time": "2022-08-13T06:13:19.363276Z",
     "start_time": "2022-08-13T06:13:19.347125Z"
    }
   },
   "outputs": [],
   "source": [
    "#if you want columns which are not in sequence\n",
    "df.loc[0:10, [\"rank\", \"phd\",\"salary\"]]"
   ]
  },
  {
   "cell_type": "markdown",
   "id": "4f72b004",
   "metadata": {},
   "source": [
    "# Slicing by both value(condition) & index"
   ]
  },
  {
   "cell_type": "code",
   "execution_count": null,
   "id": "8d765993",
   "metadata": {
    "ExecuteTime": {
     "end_time": "2022-08-13T06:45:11.814877Z",
     "start_time": "2022-08-13T06:45:11.788575Z"
    }
   },
   "outputs": [],
   "source": [
    "df[df[\"salary\"]>150000][[\"rank\",\"discipline\"]]  "
   ]
  }
 ],
 "metadata": {
  "kernelspec": {
   "display_name": "Python 3 (ipykernel)",
   "language": "python",
   "name": "python3"
  },
  "language_info": {
   "codemirror_mode": {
    "name": "ipython",
    "version": 3
   },
   "file_extension": ".py",
   "mimetype": "text/x-python",
   "name": "python",
   "nbconvert_exporter": "python",
   "pygments_lexer": "ipython3",
   "version": "3.9.12"
  }
 },
 "nbformat": 4,
 "nbformat_minor": 5
}
